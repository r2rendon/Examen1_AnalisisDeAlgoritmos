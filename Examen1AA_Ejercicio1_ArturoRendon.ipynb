{
  "nbformat": 4,
  "nbformat_minor": 0,
  "metadata": {
    "colab": {
      "name": "Examen1AA_Ejercicio1_ArturoRendon.ipynb",
      "provenance": [],
      "collapsed_sections": [],
      "authorship_tag": "ABX9TyPn5L+kLfLr1OvqtjQ+rSrT",
      "include_colab_link": true
    },
    "kernelspec": {
      "name": "python3",
      "display_name": "Python 3"
    }
  },
  "cells": [
    {
      "cell_type": "markdown",
      "metadata": {
        "id": "view-in-github",
        "colab_type": "text"
      },
      "source": [
        "<a href=\"https://colab.research.google.com/github/r2rendon/Examen1_AnalisisDeAlgoritmos/blob/main/Examen1AA_Ejercicio1_ArturoRendon.ipynb\" target=\"_parent\"><img src=\"https://colab.research.google.com/assets/colab-badge.svg\" alt=\"Open In Colab\"/></a>"
      ]
    },
    {
      "cell_type": "markdown",
      "metadata": {
        "id": "HkEDIJAYxH1C"
      },
      "source": [
        "**1) Insertion Sort**\n",
        "---"
      ]
    },
    {
      "cell_type": "code",
      "metadata": {
        "colab": {
          "base_uri": "https://localhost:8080/",
          "height": 1000
        },
        "id": "Aph_VVHXkd-9",
        "outputId": "73503f12-c2cb-46a5-f8d1-290e6b8a953d"
      },
      "source": [
        "from random import seed\n",
        "from random import randint\n",
        "import numpy as np\n",
        "import matplotlib.pyplot as plt\n",
        "import numpy as np\n",
        "import time as t\n",
        "\n",
        "times = {}\n",
        "\n",
        "def insertionSort(cant):\n",
        "  listaDesordenada = []\n",
        "  for _ in range(cant):\n",
        "    listaDesordenada = np.append(listaDesordenada, randint(0, 50))\n",
        "  \n",
        "  veces = 0 # O(1)\n",
        "  for i in range(len(listaDesordenada)):# O(n)\n",
        "    for j in range(i, 0, -1): # O(n^2) \n",
        "      veces += 1 # O(1)\n",
        "      if listaDesordenada[j] < listaDesordenada[j-1]: # O(n)\n",
        "        listaDesordenada[j], listaDesordenada[j-1] = listaDesordenada[j-1], listaDesordenada[j] # O(1)\n",
        "      else:\n",
        "        break\n",
        "  return veces\n",
        "\n",
        "def test(n):\n",
        "  start_time = t.time()\n",
        "  print(insertionSort(n))\n",
        "  times[n]= t.time() - start_time\n",
        "  print(\"--- %s seconds ---\" % (times[n]))\n",
        "\n",
        "def plot(times):\n",
        "  lists = sorted(times.items())\n",
        "  x, y = zip(*lists)\n",
        "  plt.plot(x, y)\n",
        "  plt.show()\n",
        "  print(times)\n",
        "\n",
        "for i in range(50):\n",
        "  test(i)\n",
        "\n",
        "plot(times)"
      ],
      "execution_count": null,
      "outputs": [
        {
          "output_type": "stream",
          "text": [
            "0\n",
            "--- 0.00012874603271484375 seconds ---\n",
            "0\n",
            "--- 0.00033974647521972656 seconds ---\n",
            "1\n",
            "--- 0.0002722740173339844 seconds ---\n",
            "2\n",
            "--- 0.0004658699035644531 seconds ---\n",
            "3\n",
            "--- 0.0003445148468017578 seconds ---\n",
            "5\n",
            "--- 0.0003387928009033203 seconds ---\n",
            "7\n",
            "--- 0.0004451274871826172 seconds ---\n",
            "18\n",
            "--- 0.0008592605590820312 seconds ---\n",
            "15\n",
            "--- 0.00044536590576171875 seconds ---\n",
            "24\n",
            "--- 0.0003752708435058594 seconds ---\n",
            "26\n",
            "--- 0.000453948974609375 seconds ---\n",
            "38\n",
            "--- 0.000545501708984375 seconds ---\n",
            "52\n",
            "--- 0.0003349781036376953 seconds ---\n",
            "57\n",
            "--- 0.00035262107849121094 seconds ---\n",
            "35\n",
            "--- 0.0003483295440673828 seconds ---\n",
            "66\n",
            "--- 0.00036835670471191406 seconds ---\n",
            "67\n",
            "--- 0.00037026405334472656 seconds ---\n",
            "86\n",
            "--- 0.0013794898986816406 seconds ---\n",
            "67\n",
            "--- 0.0003840923309326172 seconds ---\n",
            "113\n",
            "--- 0.0014216899871826172 seconds ---\n",
            "101\n",
            "--- 0.00037860870361328125 seconds ---\n",
            "151\n",
            "--- 0.0002779960632324219 seconds ---\n",
            "139\n",
            "--- 0.0009021759033203125 seconds ---\n",
            "178\n",
            "--- 0.0006847381591796875 seconds ---\n",
            "162\n",
            "--- 0.0006549358367919922 seconds ---\n",
            "136\n",
            "--- 0.0007505416870117188 seconds ---\n",
            "242\n",
            "--- 0.0007143020629882812 seconds ---\n",
            "180\n",
            "--- 0.0008747577667236328 seconds ---\n",
            "246\n",
            "--- 0.0014481544494628906 seconds ---\n",
            "219\n",
            "--- 0.0008077621459960938 seconds ---\n",
            "252\n",
            "--- 0.0005943775177001953 seconds ---\n",
            "202\n",
            "--- 0.0004317760467529297 seconds ---\n",
            "238\n",
            "--- 0.0021944046020507812 seconds ---\n",
            "269\n",
            "--- 0.001050710678100586 seconds ---\n",
            "329\n",
            "--- 0.0019309520721435547 seconds ---\n",
            "335\n",
            "--- 0.0009248256683349609 seconds ---\n",
            "296\n",
            "--- 0.0009610652923583984 seconds ---\n",
            "371\n",
            "--- 0.0009479522705078125 seconds ---\n",
            "408\n",
            "--- 0.0010137557983398438 seconds ---\n",
            "416\n",
            "--- 0.0019009113311767578 seconds ---\n",
            "400\n",
            "--- 0.0015642642974853516 seconds ---\n",
            "414\n",
            "--- 0.00139617919921875 seconds ---\n",
            "541\n",
            "--- 0.0016283988952636719 seconds ---\n",
            "555\n",
            "--- 0.0015845298767089844 seconds ---\n",
            "466\n",
            "--- 0.002356290817260742 seconds ---\n",
            "568\n",
            "--- 0.0014195442199707031 seconds ---\n",
            "562\n",
            "--- 0.001558065414428711 seconds ---\n",
            "516\n",
            "--- 0.0015044212341308594 seconds ---\n",
            "529\n",
            "--- 0.001958131790161133 seconds ---\n",
            "633\n",
            "--- 0.0017635822296142578 seconds ---\n"
          ],
          "name": "stdout"
        },
        {
          "output_type": "display_data",
          "data": {
            "image/png": "[encoded data removed]",
            "text/plain": [
              "<Figure size 432x288 with 1 Axes>"
            ]
          },
          "metadata": {
            "tags": [],
            "needs_background": "light"
          }
        },
        {
          "output_type": "stream",
          "text": [
            "{0: 0.00012874603271484375, 1: 0.00033974647521972656, 2: 0.0002722740173339844, 3: 0.0004658699035644531, 4: 0.0003445148468017578, 5: 0.0003387928009033203, 6: 0.0004451274871826172, 7: 0.0008592605590820312, 8: 0.00044536590576171875, 9: 0.0003752708435058594, 10: 0.000453948974609375, 11: 0.000545501708984375, 12: 0.0003349781036376953, 13: 0.00035262107849121094, 14: 0.0003483295440673828, 15: 0.00036835670471191406, 16: 0.00037026405334472656, 17: 0.0013794898986816406, 18: 0.0003840923309326172, 19: 0.0014216899871826172, 20: 0.00037860870361328125, 21: 0.0002779960632324219, 22: 0.0009021759033203125, 23: 0.0006847381591796875, 24: 0.0006549358367919922, 25: 0.0007505416870117188, 26: 0.0007143020629882812, 27: 0.0008747577667236328, 28: 0.0014481544494628906, 29: 0.0008077621459960938, 30: 0.0005943775177001953, 31: 0.0004317760467529297, 32: 0.0021944046020507812, 33: 0.001050710678100586, 34: 0.0019309520721435547, 35: 0.0009248256683349609, 36: 0.0009610652923583984, 37: 0.0009479522705078125, 38: 0.0010137557983398438, 39: 0.0019009113311767578, 40: 0.0015642642974853516, 41: 0.00139617919921875, 42: 0.0016283988952636719, 43: 0.0015845298767089844, 44: 0.002356290817260742, 45: 0.0014195442199707031, 46: 0.001558065414428711, 47: 0.0015044212341308594, 48: 0.001958131790161133, 49: 0.0017635822296142578}\n"
          ],
          "name": "stdout"
        }
      ]
    },
    {
      "cell_type": "markdown",
      "metadata": {
        "id": "nq9QI0z15YZd"
      },
      "source": [
        "**Analisis de Complejidad**\n",
        "---\n",
        "\n",
        "En base al analisis comentado en algoritmo, se puede ver que el for anidado toma el mas tiempo en el algoritmo con O(n^2). El algoritmo es algo simple ya que lo que mas toma tiempo es el for anidado. El segundo for tiene un condicional que determina si deberia de cambiar de posiciones la posicion actual con la posicion anterior. Esta asignacion es una constante tomando O(1) y su condicion es de O(n). El algoritmo tiene una oportunidad en la forma de recorrer dicho arreglo, ese recorrido es algo costoso en base a tiempo pero es algo que es sumamente necesario ya que vela el orden de la lista.\n",
        "\n",
        "---\n",
        "\n",
        "**Analisis cualitativo**\n",
        "---\n",
        "\n",
        "Este algoritmo busca el orden de una lista recorriendo dicha lista y comparando la posicion actual del recorrido con la anterior. Asi, lentamente, va a ir moviendo de posicion en posicion los valores que tenga cada posicion. La implementacion usa una variable llamada \"veces\" para poder ir contando las veces que se recorre cada vez que se llama el segundo for anidado. Esta implementacion no toma mucho tiempo ya que son dos constantes, una definida antes de recorrer el arreglo y otra que le agrega valor a la misma. Pero cuando empezamos a pensar en listas que sean bien grandes, ese contador va a ir sumndo tiempo innecesario a dicha implementacion. Este contador es meramente utilizado por razones de aplicacion y entendimiento pero a la larga solo agrega mas tiempo a la funcion que puede llegar a conllevar bastante tiempo."
      ]
    }
  ]
}