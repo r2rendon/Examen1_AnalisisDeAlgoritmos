{
  "nbformat": 4,
  "nbformat_minor": 0,
  "metadata": {
    "colab": {
      "name": "Examen1AA_Ejercicio2_ArturoRendon.ipynb",
      "provenance": [],
      "collapsed_sections": [],
      "authorship_tag": "ABX9TyNxjd7eyQDuKwII92QyPEvM",
      "include_colab_link": true
    },
    "kernelspec": {
      "name": "python3",
      "display_name": "Python 3"
    }
  },
  "cells": [
    {
      "cell_type": "markdown",
      "metadata": {
        "id": "view-in-github",
        "colab_type": "text"
      },
      "source": [
        "<a href=\"https://colab.research.google.com/github/r2rendon/Examen1_AnalisisDeAlgoritmos/blob/main/Examen1AA_Ejercicio2_ArturoRendon.ipynb\" target=\"_parent\"><img src=\"https://colab.research.google.com/assets/colab-badge.svg\" alt=\"Open In Colab\"/></a>"
      ]
    },
    {
      "cell_type": "markdown",
      "metadata": {
        "id": "jWaOqvuQrVrD"
      },
      "source": [
        "**2) HeapSort**\n",
        "---\n",
        "\n"
      ]
    },
    {
      "cell_type": "code",
      "metadata": {
        "id": "mbhiKfBvrdmO"
      },
      "source": [
        "from random import seed\n",
        "from random import randint\n",
        "import numpy as np\n",
        "import matplotlib.pyplot as plt\n",
        "import numpy as np\n",
        "import time as t\n",
        "\n",
        "times = {}\n",
        "\n",
        "def heapify(arr, n, i): \n",
        "    largest = i\n",
        "    l = 2 * i + 1\n",
        "    r = 2 * i + 2\n",
        "\n",
        "    if l < n and arr[i] < arr[l]: \n",
        "        largest = l \n",
        "\n",
        "    if r < n and arr[largest] < arr[r]: \n",
        "        largest = r \n",
        "  \n",
        "    if largest != i: \n",
        "        arr[i],arr[largest] = arr[largest],arr[i]\n",
        "  \n",
        "        heapify(arr, n, largest) \n",
        "\n",
        "def heapSort(arr): \n",
        "    n = len(arr) \n",
        "\n",
        "    for i in range(n // 2 - 1, -1, -1): \n",
        "        heapify(arr, n, i) \n",
        "\n",
        "    for i in range(n-1, 0, -1): \n",
        "        arr[i], arr[0] = arr[0], arr[i]\n",
        "        heapify(arr, i, 0)\n",
        "\n",
        "def test(n):\n",
        "  arr = []\n",
        "  seed(1)\n",
        "  for _ in range(n):\n",
        "    arr = np.append(arr, randint(0, 50))\n",
        "  \n",
        "  start_time = t.time()\n",
        "  heapSort(arr)\n",
        "  times[n]= t.time() - start_time\n",
        "  print(\"--- %s seconds ---\" % (times[n]))\n",
        "\n",
        "def plot(times):\n",
        "  lists = sorted(times.items())\n",
        "  x, y = zip(*lists)\n",
        "  plt.plot(x, y)\n",
        "  plt.show()\n",
        "  print(times)\n",
        "\n",
        "for i in range(50):\n",
        "  test(i)\n",
        "\n",
        "plot(times)"
      ],
      "execution_count": null,
      "outputs": []
    },
    {
      "cell_type": "markdown",
      "metadata": {
        "id": "R3vUzzxoFKR9"
      },
      "source": [
        "**Analisis de complejidad**\n",
        "---\n",
        "**T(n) = n log(n)**\n",
        "\n",
        "Este algoritmo tiene como complejidad *n log(n)* ya que la primera n es tomada por el valor de la cantidad de condiciones a realizar por cada recursion. Son 2 pero como es una constante no se toma en cuenta 2 y se usa *n* solamente. *log(n)* es dado en base al nodo actual de la recursion para sacar la cantidad de niveles que hay a partir de dicho nodo.\n",
        "\n",
        "---\n",
        "\n",
        "**Analisis cualitativo**\n",
        "---\n",
        "\n",
        "La implementacion del algoritmo utiliza dos funciones, heapSort siendo la principal que hace el sort a partir del maxheap creado con la funcion heapify. Para luego ir extrayendo los elementos uno a uno. Heapify hace un heap a partir del nodo donde se encuentra la recursion. n siendo el tamaño del heap y la i siendo el indice del nodo. Heapify tiene dos condiciones para saber que lado del arboles el mayor a la raiz, siendo derecha o izquierda. Luego usa ese mayor valor para hacer swap a partir de las condiciones hechas anteriormente. Luego proceder a la recurcsion con la raiz cambiando siendo i el lado del nodo que es mayor. Cabe destacar que si el mayor es igual que i, no hace el swap ya que son iguales.\n"
      ]
    }
  ]
}