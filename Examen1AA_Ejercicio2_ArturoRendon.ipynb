{
  "nbformat": 4,
  "nbformat_minor": 0,
  "metadata": {
    "colab": {
      "name": "Examen1AA_Ejercicio2_ArturoRendon.ipynb",
      "provenance": [],
      "collapsed_sections": [],
      "authorship_tag": "ABX9TyNxjd7eyQDuKwII92QyPEvM",
      "include_colab_link": true
    },
    "kernelspec": {
      "name": "python3",
      "display_name": "Python 3"
    }
  },
  "cells": [
    {
      "cell_type": "markdown",
      "metadata": {
        "id": "view-in-github",
        "colab_type": "text"
      },
      "source": [
        "<a href=\"https://colab.research.google.com/github/r2rendon/Examen1_AnalisisDeAlgoritmos/blob/main/Examen1AA_Ejercicio2_ArturoRendon.ipynb\" target=\"_parent\"><img src=\"https://colab.research.google.com/assets/colab-badge.svg\" alt=\"Open In Colab\"/></a>"
      ]
    },
    {
      "cell_type": "markdown",
      "metadata": {
        "id": "jWaOqvuQrVrD"
      },
      "source": [
        "**2) HeapSort**\n",
        "---\n",
        "\n"
      ]
    },
    {
      "cell_type": "code",
      "metadata": {
        "id": "mbhiKfBvrdmO",
        "outputId": "4931d152-46e8-4759-c858-4c5ec18f8d9b",
        "colab": {
          "base_uri": "https://localhost:8080/",
          "height": 1000
        }
      },
      "source": [
        "from random import seed\n",
        "from random import randint\n",
        "import numpy as np\n",
        "import matplotlib.pyplot as plt\n",
        "import numpy as np\n",
        "import time as t\n",
        "\n",
        "times = {}\n",
        "\n",
        "def heapify(arr, n, i): \n",
        "    largest = i\n",
        "    l = 2 * i + 1\n",
        "    r = 2 * i + 2\n",
        "\n",
        "    if l < n and arr[i] < arr[l]: \n",
        "        largest = l \n",
        "\n",
        "    if r < n and arr[largest] < arr[r]: \n",
        "        largest = r \n",
        "  \n",
        "    if largest != i: \n",
        "        arr[i],arr[largest] = arr[largest],arr[i]\n",
        "  \n",
        "        heapify(arr, n, largest) \n",
        "\n",
        "def heapSort(arr): \n",
        "    n = len(arr) \n",
        "\n",
        "    for i in range(n // 2 - 1, -1, -1): \n",
        "        heapify(arr, n, i) \n",
        "\n",
        "    for i in range(n-1, 0, -1): \n",
        "        arr[i], arr[0] = arr[0], arr[i]\n",
        "        heapify(arr, i, 0)\n",
        "\n",
        "def test(n):\n",
        "  arr = []\n",
        "  seed(1)\n",
        "  for _ in range(n):\n",
        "    arr = np.append(arr, randint(0, 50))\n",
        "  \n",
        "  start_time = t.time()\n",
        "  heapSort(arr)\n",
        "  times[n]= t.time() - start_time\n",
        "  print(\"--- %s seconds ---\" % (times[n]))\n",
        "\n",
        "def plot(times):\n",
        "  lists = sorted(times.items())\n",
        "  x, y = zip(*lists)\n",
        "  plt.plot(x, y)\n",
        "  plt.show()\n",
        "  print(times)\n",
        "\n",
        "for i in range(50):\n",
        "  test(i)\n",
        "\n",
        "plot(times)"
      ],
      "execution_count": 1,
      "outputs": [
        {
          "output_type": "stream",
          "text": [
            "--- 2.6226043701171875e-06 seconds ---\n",
            "--- 4.0531158447265625e-06 seconds ---\n",
            "--- 1.430511474609375e-05 seconds ---\n",
            "--- 1.1920928955078125e-05 seconds ---\n",
            "--- 1.430511474609375e-05 seconds ---\n",
            "--- 1.9073486328125e-05 seconds ---\n",
            "--- 2.8371810913085938e-05 seconds ---\n",
            "--- 2.956390380859375e-05 seconds ---\n",
            "--- 3.528594970703125e-05 seconds ---\n",
            "--- 6.937980651855469e-05 seconds ---\n",
            "--- 5.555152893066406e-05 seconds ---\n",
            "--- 6.556510925292969e-05 seconds ---\n",
            "--- 7.05718994140625e-05 seconds ---\n",
            "--- 7.843971252441406e-05 seconds ---\n",
            "--- 0.00011563301086425781 seconds ---\n",
            "--- 0.00010085105895996094 seconds ---\n",
            "--- 9.393692016601562e-05 seconds ---\n",
            "--- 9.894371032714844e-05 seconds ---\n",
            "--- 0.00010943412780761719 seconds ---\n",
            "--- 0.00010919570922851562 seconds ---\n",
            "--- 0.00011491775512695312 seconds ---\n",
            "--- 0.00014638900756835938 seconds ---\n",
            "--- 0.00012636184692382812 seconds ---\n",
            "--- 0.0001938343048095703 seconds ---\n",
            "--- 0.00014209747314453125 seconds ---\n",
            "--- 0.00016307830810546875 seconds ---\n",
            "--- 0.00021409988403320312 seconds ---\n",
            "--- 0.0001895427703857422 seconds ---\n",
            "--- 0.00016188621520996094 seconds ---\n",
            "--- 0.0002110004425048828 seconds ---\n",
            "--- 0.00019598007202148438 seconds ---\n",
            "--- 0.00017213821411132812 seconds ---\n",
            "--- 0.0002319812774658203 seconds ---\n",
            "--- 0.0001983642578125 seconds ---\n",
            "--- 0.00025725364685058594 seconds ---\n",
            "--- 0.0002243518829345703 seconds ---\n",
            "--- 0.00021314620971679688 seconds ---\n",
            "--- 0.00023984909057617188 seconds ---\n",
            "--- 0.0002288818359375 seconds ---\n",
            "--- 0.000244140625 seconds ---\n",
            "--- 0.0003516674041748047 seconds ---\n",
            "--- 0.0002541542053222656 seconds ---\n",
            "--- 0.00026869773864746094 seconds ---\n",
            "--- 0.00027060508728027344 seconds ---\n",
            "--- 0.0002415180206298828 seconds ---\n",
            "--- 0.0002415180206298828 seconds ---\n",
            "--- 0.00029850006103515625 seconds ---\n",
            "--- 0.00027060508728027344 seconds ---\n",
            "--- 0.0002758502960205078 seconds ---\n",
            "--- 0.0002887248992919922 seconds ---\n"
          ],
          "name": "stdout"
        },
        {
          "output_type": "display_data",
          "data": {
            "image/png": "[encoded data removed]",
            "text/plain": [
              "<Figure size 432x288 with 1 Axes>"
            ]
          },
          "metadata": {
            "tags": [],
            "needs_background": "light"
          }
        },
        {
          "output_type": "stream",
          "text": [
            "{0: 2.6226043701171875e-06, 1: 4.0531158447265625e-06, 2: 1.430511474609375e-05, 3: 1.1920928955078125e-05, 4: 1.430511474609375e-05, 5: 1.9073486328125e-05, 6: 2.8371810913085938e-05, 7: 2.956390380859375e-05, 8: 3.528594970703125e-05, 9: 6.937980651855469e-05, 10: 5.555152893066406e-05, 11: 6.556510925292969e-05, 12: 7.05718994140625e-05, 13: 7.843971252441406e-05, 14: 0.00011563301086425781, 15: 0.00010085105895996094, 16: 9.393692016601562e-05, 17: 9.894371032714844e-05, 18: 0.00010943412780761719, 19: 0.00010919570922851562, 20: 0.00011491775512695312, 21: 0.00014638900756835938, 22: 0.00012636184692382812, 23: 0.0001938343048095703, 24: 0.00014209747314453125, 25: 0.00016307830810546875, 26: 0.00021409988403320312, 27: 0.0001895427703857422, 28: 0.00016188621520996094, 29: 0.0002110004425048828, 30: 0.00019598007202148438, 31: 0.00017213821411132812, 32: 0.0002319812774658203, 33: 0.0001983642578125, 34: 0.00025725364685058594, 35: 0.0002243518829345703, 36: 0.00021314620971679688, 37: 0.00023984909057617188, 38: 0.0002288818359375, 39: 0.000244140625, 40: 0.0003516674041748047, 41: 0.0002541542053222656, 42: 0.00026869773864746094, 43: 0.00027060508728027344, 44: 0.0002415180206298828, 45: 0.0002415180206298828, 46: 0.00029850006103515625, 47: 0.00027060508728027344, 48: 0.0002758502960205078, 49: 0.0002887248992919922}\n"
          ],
          "name": "stdout"
        }
      ]
    },
    {
      "cell_type": "markdown",
      "metadata": {
        "id": "R3vUzzxoFKR9"
      },
      "source": [
        "**Analisis de complejidad**\n",
        "---\n",
        "**T(n) = n log(n)**\n",
        "\n",
        "Este algoritmo tiene como complejidad *n log(n)* ya que la primera n es tomada por el valor de la cantidad de condiciones a realizar por cada recursion. Son 2 pero como es una constante no se toma en cuenta 2 y se usa *n* solamente. *log(n)* es dado en base al nodo actual de la recursion para sacar la cantidad de niveles que hay a partir de dicho nodo.\n",
        "\n",
        "---\n",
        "\n",
        "**Analisis cualitativo**\n",
        "---\n",
        "\n",
        "La implementacion del algoritmo utiliza dos funciones, heapSort siendo la principal que hace el sort a partir del maxheap creado con la funcion heapify. Para luego ir extrayendo los elementos uno a uno. Heapify hace un heap a partir del nodo donde se encuentra la recursion. n siendo el tamaño del heap y la i siendo el indice del nodo. Heapify tiene dos condiciones para saber que lado del arboles el mayor a la raiz, siendo derecha o izquierda. Luego usa ese mayor valor para hacer swap a partir de las condiciones hechas anteriormente. Luego proceder a la recurcsion con la raiz cambiando siendo i el lado del nodo que es mayor. Cabe destacar que si el mayor es igual que i, no hace el swap ya que son iguales.\n"
      ]
    }
  ]
}