{
  "nbformat": 4,
  "nbformat_minor": 0,
  "metadata": {
    "colab": {
      "name": "Examen1AA_Ejercicio4_ArturoRendon.ipynb",
      "provenance": [],
      "collapsed_sections": [],
      "authorship_tag": "ABX9TyO9Wl/A3wmCP1YAGndVwd5H",
      "include_colab_link": true
    },
    "kernelspec": {
      "name": "python3",
      "display_name": "Python 3"
    }
  },
  "cells": [
    {
      "cell_type": "markdown",
      "metadata": {
        "id": "view-in-github",
        "colab_type": "text"
      },
      "source": [
        "<a href=\"https://colab.research.google.com/github/r2rendon/Examen1_AnalisisDeAlgoritmos/blob/main/Examen1AA_Ejercicio4_ArturoRendon.ipynb\" target=\"_parent\"><img src=\"https://colab.research.google.com/assets/colab-badge.svg\" alt=\"Open In Colab\"/></a>"
      ]
    },
    {
      "cell_type": "markdown",
      "metadata": {
        "id": "1bytzLyY-yMF"
      },
      "source": [
        "4) AVL Tree - Insert\n",
        "---\n",
        "\n",
        "![avl.gif](data:image/gif;base64,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)"
      ]
    },
    {
      "cell_type": "markdown",
      "metadata": {
        "id": "I6dBLaY4JPQY"
      },
      "source": [
        "**Analisis de complejidad**\n",
        "---\n",
        "**O(log(n))**\n",
        "\n",
        "El motivo de que la insercion de un nodo a un arbol AVL toma *O(log(n))* es porque las inserciones a un arbol toman O(h) en cuestion de tiempo, las rotaciones son O(1) y los arboles AVL tienen que la h = O(log(n)) donde h es la altura del arbol. Si reemplazamos h en el tiempo de insercion en un arbol tenemos que el tiempo de incersion es O(log(n)). Las rotaciones tienen tal tiempo constante ya que solo son asignacion de nodos segun el orden que tengan que tener para que el arbol este balanceado\n",
        "\n",
        "---\n",
        "\n",
        "**Analisis cualitativo**\n",
        "---\n",
        "La insercion de un nodo a un arbol AVL como definicion es algo simple. EL algoritmo busca identificar si la insercion va a desbalancear el arbol con su estado actual, si lo desbalancea busca que casos aplican al desbalance que tendra con su insercion y luego proceder a realizar las rotaciones necesarias para arreglar el caso en particular. Pero cuando identificamos el algoritmo es uno que conlleva tiempo logaritmicamente segun el tamaño del mismo, ya que es en base a la altura del arbol. Este algoritmo, como la mayoria, va a incrementar su tiempo a medida el arbol tenga una altura mayor pero sin duda es una algoritmo eficiente ya que se da en un ambiente algo controlado en el sentido de que el arbol va a estar siempre balanceado ya que sus rotaciones hacen el \"*setup*\" del arbol para que la insercion no cause un desbalance del mismo.\n"
      ]
    }
  ]
}