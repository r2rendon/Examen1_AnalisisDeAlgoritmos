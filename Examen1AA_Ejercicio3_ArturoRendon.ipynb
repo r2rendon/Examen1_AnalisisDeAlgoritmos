{
  "nbformat": 4,
  "nbformat_minor": 0,
  "metadata": {
    "colab": {
      "name": "Examen1AA_Ejercicio3_ArturoRendon.ipynb",
      "provenance": [],
      "authorship_tag": "ABX9TyOsQMwtOQPbDeDWWSGQjTDp",
      "include_colab_link": true
    },
    "kernelspec": {
      "name": "python3",
      "display_name": "Python 3"
    }
  },
  "cells": [
    {
      "cell_type": "markdown",
      "metadata": {
        "id": "view-in-github",
        "colab_type": "text"
      },
      "source": [
        "<a href=\"https://colab.research.google.com/github/r2rendon/Examen1_AnalisisDeAlgoritmos/blob/main/Examen1AA_Ejercicio3_ArturoRendon.ipynb\" target=\"_parent\"><img src=\"https://colab.research.google.com/assets/colab-badge.svg\" alt=\"Open In Colab\"/></a>"
      ]
    },
    {
      "cell_type": "markdown",
      "metadata": {
        "id": "6qs2K8N_ygp8"
      },
      "source": [
        "**3) Potencia, divide y venceras**\n",
        "---\n",
        "\n"
      ]
    },
    {
      "cell_type": "markdown",
      "metadata": {
        "id": "wwbpx1ZNkldk"
      },
      "source": [
        "Potencia (Iterativo)"
      ]
    },
    {
      "cell_type": "code",
      "metadata": {
        "id": "X_rDTV5FkW1R"
      },
      "source": [
        "def power_iterativo(x, y): \n",
        "    res = 1\n",
        "      \n",
        "    while (y > 0): \n",
        "        if ((y & 1) == 1) : \n",
        "            res = res * x \n",
        "        y = y >> 1\n",
        "        x = x * x \n",
        "      \n",
        "    return res"
      ],
      "execution_count": 3,
      "outputs": []
    },
    {
      "cell_type": "markdown",
      "metadata": {
        "id": "F6onx7ZTx6XI"
      },
      "source": [
        "Potencia (Recursivo)"
      ]
    },
    {
      "cell_type": "code",
      "metadata": {
        "colab": {
          "base_uri": "https://localhost:8080/",
          "height": 1000
        },
        "id": "-WNXBhmE24eB",
        "outputId": "4232702d-8fe7-4a9a-e9fd-a651850a3f3c"
      },
      "source": [
        "from random import seed\n",
        "from random import randint\n",
        "import numpy as np\n",
        "import matplotlib.pyplot as plt\n",
        "import numpy as np\n",
        "import time as t\n",
        "\n",
        "times = {}\n",
        "times_iterativo = {}\n",
        "\n",
        "def power(x, y): \n",
        "    if (y == 0): \n",
        "      return 1\n",
        "    elif (int(y % 2) == 0): \n",
        "        return (power(x, int(y / 2)) *\n",
        "               power(x, int(y / 2))) \n",
        "    else: \n",
        "        return (x * power(x, int(y / 2)) *\n",
        "                   power(x, int(y / 2))) \n",
        "\n",
        "def test(n):\n",
        "  start_time = t.time()\n",
        "  power(n, 2)\n",
        "  times[n]= t.time() - start_time\n",
        "  print(\"--- %s seconds ---\" % (times[n]))\n",
        "\n",
        "  start_time = t.time()\n",
        "  power_iterativo(n, 2)\n",
        "  times_iterativo[n]= t.time() - start_time\n",
        "  print(\"--- %s seconds ---\" % (times_iterativo[n]))\n",
        "  print(\"=============================================================\")\n",
        "\n",
        "def plot(times):\n",
        "  lists = sorted(times.items())\n",
        "  x, y = zip(*lists)\n",
        "  plt.plot(x, y)\n",
        "  plt.show()\n",
        "  print(times)\n",
        "\n",
        "for i in range(50):\n",
        "  test(i)\n",
        "  \n",
        "plot(times)\n",
        "plot(times_iterativo)"
      ],
      "execution_count": 4,
      "outputs": [
        {
          "output_type": "stream",
          "text": [
            "--- 6.67572021484375e-06 seconds ---\n",
            "--- 4.76837158203125e-06 seconds ---\n",
            "=============================================================\n",
            "--- 8.106231689453125e-06 seconds ---\n",
            "--- 3.5762786865234375e-06 seconds ---\n",
            "=============================================================\n",
            "--- 6.9141387939453125e-06 seconds ---\n",
            "--- 2.86102294921875e-06 seconds ---\n",
            "=============================================================\n",
            "--- 6.9141387939453125e-06 seconds ---\n",
            "--- 2.1457672119140625e-06 seconds ---\n",
            "=============================================================\n",
            "--- 5.9604644775390625e-06 seconds ---\n",
            "--- 2.384185791015625e-06 seconds ---\n",
            "=============================================================\n",
            "--- 7.62939453125e-06 seconds ---\n",
            "--- 3.337860107421875e-06 seconds ---\n",
            "=============================================================\n",
            "--- 5.9604644775390625e-06 seconds ---\n",
            "--- 2.1457672119140625e-06 seconds ---\n",
            "=============================================================\n",
            "--- 5.7220458984375e-06 seconds ---\n",
            "--- 2.6226043701171875e-06 seconds ---\n",
            "=============================================================\n",
            "--- 5.7220458984375e-06 seconds ---\n",
            "--- 2.1457672119140625e-06 seconds ---\n",
            "=============================================================\n",
            "--- 9.059906005859375e-06 seconds ---\n",
            "--- 4.291534423828125e-06 seconds ---\n",
            "=============================================================\n",
            "--- 7.152557373046875e-06 seconds ---\n",
            "--- 2.86102294921875e-06 seconds ---\n",
            "=============================================================\n",
            "--- 5.7220458984375e-06 seconds ---\n",
            "--- 2.86102294921875e-06 seconds ---\n",
            "=============================================================\n",
            "--- 5.9604644775390625e-06 seconds ---\n",
            "--- 3.814697265625e-06 seconds ---\n",
            "=============================================================\n",
            "--- 7.62939453125e-06 seconds ---\n",
            "--- 3.0994415283203125e-06 seconds ---\n",
            "=============================================================\n",
            "--- 6.198883056640625e-06 seconds ---\n",
            "--- 2.384185791015625e-06 seconds ---\n",
            "=============================================================\n",
            "--- 5.4836273193359375e-06 seconds ---\n",
            "--- 1.9073486328125e-06 seconds ---\n",
            "=============================================================\n",
            "--- 5.7220458984375e-06 seconds ---\n",
            "--- 2.1457672119140625e-06 seconds ---\n",
            "=============================================================\n",
            "--- 5.4836273193359375e-06 seconds ---\n",
            "--- 2.384185791015625e-06 seconds ---\n",
            "=============================================================\n",
            "--- 5.9604644775390625e-06 seconds ---\n",
            "--- 2.1457672119140625e-06 seconds ---\n",
            "=============================================================\n",
            "--- 5.4836273193359375e-06 seconds ---\n",
            "--- 2.6226043701171875e-06 seconds ---\n",
            "=============================================================\n",
            "--- 8.58306884765625e-06 seconds ---\n",
            "--- 3.5762786865234375e-06 seconds ---\n",
            "=============================================================\n",
            "--- 5.7220458984375e-06 seconds ---\n",
            "--- 2.384185791015625e-06 seconds ---\n",
            "=============================================================\n",
            "--- 6.4373016357421875e-06 seconds ---\n",
            "--- 2.6226043701171875e-06 seconds ---\n",
            "=============================================================\n",
            "--- 5.9604644775390625e-06 seconds ---\n",
            "--- 9.775161743164062e-06 seconds ---\n",
            "=============================================================\n",
            "--- 1.1682510375976562e-05 seconds ---\n",
            "--- 2.86102294921875e-06 seconds ---\n",
            "=============================================================\n",
            "--- 6.198883056640625e-06 seconds ---\n",
            "--- 2.384185791015625e-06 seconds ---\n",
            "=============================================================\n",
            "--- 8.821487426757812e-06 seconds ---\n",
            "--- 4.0531158447265625e-06 seconds ---\n",
            "=============================================================\n",
            "--- 9.5367431640625e-06 seconds ---\n",
            "--- 3.5762786865234375e-06 seconds ---\n",
            "=============================================================\n",
            "--- 7.62939453125e-06 seconds ---\n",
            "--- 4.291534423828125e-06 seconds ---\n",
            "=============================================================\n",
            "--- 7.3909759521484375e-06 seconds ---\n",
            "--- 2.6226043701171875e-06 seconds ---\n",
            "=============================================================\n",
            "--- 5.7220458984375e-06 seconds ---\n",
            "--- 2.86102294921875e-06 seconds ---\n",
            "=============================================================\n",
            "--- 1.3113021850585938e-05 seconds ---\n",
            "--- 5.9604644775390625e-06 seconds ---\n",
            "=============================================================\n",
            "--- 5.9604644775390625e-06 seconds ---\n",
            "--- 2.1457672119140625e-06 seconds ---\n",
            "=============================================================\n",
            "--- 5.9604644775390625e-06 seconds ---\n",
            "--- 2.384185791015625e-06 seconds ---\n",
            "=============================================================\n",
            "--- 5.9604644775390625e-06 seconds ---\n",
            "--- 2.6226043701171875e-06 seconds ---\n",
            "=============================================================\n",
            "--- 5.4836273193359375e-06 seconds ---\n",
            "--- 1.9073486328125e-06 seconds ---\n",
            "=============================================================\n",
            "--- 5.4836273193359375e-06 seconds ---\n",
            "--- 2.6226043701171875e-06 seconds ---\n",
            "=============================================================\n",
            "--- 5.7220458984375e-06 seconds ---\n",
            "--- 2.384185791015625e-06 seconds ---\n",
            "=============================================================\n",
            "--- 5.7220458984375e-06 seconds ---\n",
            "--- 2.384185791015625e-06 seconds ---\n",
            "=============================================================\n",
            "--- 5.4836273193359375e-06 seconds ---\n",
            "--- 1.9073486328125e-06 seconds ---\n",
            "=============================================================\n",
            "--- 5.7220458984375e-06 seconds ---\n",
            "--- 2.1457672119140625e-06 seconds ---\n",
            "=============================================================\n",
            "--- 5.9604644775390625e-06 seconds ---\n",
            "--- 2.1457672119140625e-06 seconds ---\n",
            "=============================================================\n",
            "--- 5.4836273193359375e-06 seconds ---\n",
            "--- 1.6689300537109375e-06 seconds ---\n",
            "=============================================================\n",
            "--- 5.7220458984375e-06 seconds ---\n",
            "--- 2.384185791015625e-06 seconds ---\n",
            "=============================================================\n",
            "--- 5.9604644775390625e-06 seconds ---\n",
            "--- 2.1457672119140625e-06 seconds ---\n",
            "=============================================================\n",
            "--- 5.9604644775390625e-06 seconds ---\n",
            "--- 2.1457672119140625e-06 seconds ---\n",
            "=============================================================\n",
            "--- 5.9604644775390625e-06 seconds ---\n",
            "--- 2.1457672119140625e-06 seconds ---\n",
            "=============================================================\n",
            "--- 5.7220458984375e-06 seconds ---\n",
            "--- 4.76837158203125e-06 seconds ---\n",
            "=============================================================\n",
            "--- 8.106231689453125e-06 seconds ---\n",
            "--- 2.86102294921875e-06 seconds ---\n",
            "=============================================================\n",
            "--- 5.7220458984375e-06 seconds ---\n",
            "--- 4.5299530029296875e-06 seconds ---\n",
            "=============================================================\n"
          ],
          "name": "stdout"
        },
        {
          "output_type": "display_data",
          "data": {
            "image/png": "[encoded data removed]",
            "text/plain": [
              "<Figure size 432x288 with 1 Axes>"
            ]
          },
          "metadata": {
            "tags": [],
            "needs_background": "light"
          }
        },
        {
          "output_type": "stream",
          "text": [
            "{0: 6.67572021484375e-06, 1: 8.106231689453125e-06, 2: 6.9141387939453125e-06, 3: 6.9141387939453125e-06, 4: 5.9604644775390625e-06, 5: 7.62939453125e-06, 6: 5.9604644775390625e-06, 7: 5.7220458984375e-06, 8: 5.7220458984375e-06, 9: 9.059906005859375e-06, 10: 7.152557373046875e-06, 11: 5.7220458984375e-06, 12: 5.9604644775390625e-06, 13: 7.62939453125e-06, 14: 6.198883056640625e-06, 15: 5.4836273193359375e-06, 16: 5.7220458984375e-06, 17: 5.4836273193359375e-06, 18: 5.9604644775390625e-06, 19: 5.4836273193359375e-06, 20: 8.58306884765625e-06, 21: 5.7220458984375e-06, 22: 6.4373016357421875e-06, 23: 5.9604644775390625e-06, 24: 1.1682510375976562e-05, 25: 6.198883056640625e-06, 26: 8.821487426757812e-06, 27: 9.5367431640625e-06, 28: 7.62939453125e-06, 29: 7.3909759521484375e-06, 30: 5.7220458984375e-06, 31: 1.3113021850585938e-05, 32: 5.9604644775390625e-06, 33: 5.9604644775390625e-06, 34: 5.9604644775390625e-06, 35: 5.4836273193359375e-06, 36: 5.4836273193359375e-06, 37: 5.7220458984375e-06, 38: 5.7220458984375e-06, 39: 5.4836273193359375e-06, 40: 5.7220458984375e-06, 41: 5.9604644775390625e-06, 42: 5.4836273193359375e-06, 43: 5.7220458984375e-06, 44: 5.9604644775390625e-06, 45: 5.9604644775390625e-06, 46: 5.9604644775390625e-06, 47: 5.7220458984375e-06, 48: 8.106231689453125e-06, 49: 5.7220458984375e-06}\n"
          ],
          "name": "stdout"
        },
        {
          "output_type": "display_data",
          "data": {
            "image/png": "[encoded data removed]",
            "text/plain": [
              "<Figure size 432x288 with 1 Axes>"
            ]
          },
          "metadata": {
            "tags": [],
            "needs_background": "light"
          }
        },
        {
          "output_type": "stream",
          "text": [
            "{0: 4.76837158203125e-06, 1: 3.5762786865234375e-06, 2: 2.86102294921875e-06, 3: 2.1457672119140625e-06, 4: 2.384185791015625e-06, 5: 3.337860107421875e-06, 6: 2.1457672119140625e-06, 7: 2.6226043701171875e-06, 8: 2.1457672119140625e-06, 9: 4.291534423828125e-06, 10: 2.86102294921875e-06, 11: 2.86102294921875e-06, 12: 3.814697265625e-06, 13: 3.0994415283203125e-06, 14: 2.384185791015625e-06, 15: 1.9073486328125e-06, 16: 2.1457672119140625e-06, 17: 2.384185791015625e-06, 18: 2.1457672119140625e-06, 19: 2.6226043701171875e-06, 20: 3.5762786865234375e-06, 21: 2.384185791015625e-06, 22: 2.6226043701171875e-06, 23: 9.775161743164062e-06, 24: 2.86102294921875e-06, 25: 2.384185791015625e-06, 26: 4.0531158447265625e-06, 27: 3.5762786865234375e-06, 28: 4.291534423828125e-06, 29: 2.6226043701171875e-06, 30: 2.86102294921875e-06, 31: 5.9604644775390625e-06, 32: 2.1457672119140625e-06, 33: 2.384185791015625e-06, 34: 2.6226043701171875e-06, 35: 1.9073486328125e-06, 36: 2.6226043701171875e-06, 37: 2.384185791015625e-06, 38: 2.384185791015625e-06, 39: 1.9073486328125e-06, 40: 2.1457672119140625e-06, 41: 2.1457672119140625e-06, 42: 1.6689300537109375e-06, 43: 2.384185791015625e-06, 44: 2.1457672119140625e-06, 45: 2.1457672119140625e-06, 46: 2.1457672119140625e-06, 47: 4.76837158203125e-06, 48: 2.86102294921875e-06, 49: 4.5299530029296875e-06}\n"
          ],
          "name": "stdout"
        }
      ]
    },
    {
      "cell_type": "markdown",
      "metadata": {
        "id": "eW3LK8EOJ1Bo"
      },
      "source": [
        "**Analisis de complejidad**\n",
        "---\n",
        "**Iterativo** = ***O(n)***\n",
        "\n",
        "**Recursivo** = ***O(log(n))***\n",
        "\n",
        "Este algoritmo tiene la complejidad *O(log(n))* ya que es basado en divide y venceras y esto se basa en ir dividiendo para encontrar la solucion por partes o en pequeñas partes. En este caso, power lo que hace es dividir en mitad el exponente para ir multiplicando x desde lo mas bajo de la recursion, que es el producto de la ultima division, hasta llegar a y como tal.\n",
        "\n",
        "---\n",
        "\n",
        "**Analisis cualitativo**\n",
        "---\n",
        "El algoritmo de power basado en divide y venceras muestra como un algoritmo recursivo puede llegar a ser menos eficiente en comparacion a un algoritmo con base iterativa. En base a los resultados obtenidos de las graficas de tiempo de ejecucion, podemos ver como en algunos tests gano el algoritmo basado en divide y venceras. Pero el algoritmo iterativo perdio en pocas pruebas demostrando que, sea pequeño o sea mayor la magnitud de las iteraciones, no siempre un algoritmo recursivo puede ser la forma mas optima de conllevar un problema. Esto se debe ya que los llamados a la funcion a iterar a veces son innecesariamente demasiados. Cuando una iteracion es completamente lineal. "
      ]
    }
  ]
}